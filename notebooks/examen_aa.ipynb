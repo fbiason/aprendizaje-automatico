{
 "cells": [
  {
   "cell_type": "markdown",
   "id": "4b1e9886",
   "metadata": {},
   "source": [
    "Primera Parte: Importación, exploración inicial y limpieza de datos"
   ]
  },
  {
   "cell_type": "code",
   "execution_count": null,
   "id": "05244a49",
   "metadata": {},
   "outputs": [],
   "source": [
    "# Primero importo todas las librerias necesarias y cargo el dataset\n",
    "import pandas as pd\n",
    "import matplotlib.pyplot as plt\n",
    "import numpy as np\n",
    "from sklearn.linear_model import LinearRegression\n",
    "from sklearn.linear_model import Ridge\n",
    "from sklearn.model_selection import train_test_split\n",
    "from sklearn.metrics import r2_score, mean_squared_error\n",
    "\n",
    "# Carga del archivo\n",
    "xls = pd.ExcelFile(\"Informe Regalias CRUDO.xlsx\")\n",
    "\n",
    "# Visualizo las hojas de cálculo para ver sobre las que voy a trabajar\n",
    "print(xls.sheet_names)"
   ]
  },
  {
   "cell_type": "markdown",
   "id": "e2b504c8",
   "metadata": {},
   "source": [
    "Segunda Parte: Integración de datasets y creación del DataFrame final"
   ]
  },
  {
   "cell_type": "code",
   "execution_count": null,
   "id": "9b92bc36",
   "metadata": {},
   "outputs": [],
   "source": [
    "# Cargo la hoja de REGALIAS y limpio las columnas necesarias\n",
    "df_regalias = pd.read_excel(xls, sheet_name='Tabla regalías', skiprows=11)\n",
    "# Cargo la hoja de PRECIOS y selecciono AÑO, MES y PRECIO\n",
    "df_precios = pd.read_excel(xls, sheet_name='Tabla precios', skiprows=12)\n",
    "# Cargo la hoja de PRODUCCIÓN y selecciono AÑO, MES y PRODUCCIÓN\n",
    "df_produccion = pd.read_excel(xls, sheet_name='Tabla producción', skiprows=11)\n",
    "\n",
    "# Me quedo con las tres primeras columnas: AÑO, MES y REGALIAS\n",
    "df_regalias_clean = df_regalias.iloc[:, [0, 1, 2]].copy()\n",
    "df_regalias_clean.columns = ['AÑO', 'MES', 'REGALIAS']\n",
    "df_regalias_clean.dropna(inplace=True)\n",
    "\n",
    "# Me quedo con las tres primeras columnas: AÑO, MES y PRECIOS\n",
    "df_precios_clean = df_precios.iloc[:, [0, 1, 2]].copy()\n",
    "df_precios_clean.columns = ['AÑO', 'MES', 'PRECIO']\n",
    "df_precios_clean.dropna(inplace=True)\n",
    "\n",
    "# Me quedo con las tres primeras columnas: AÑO, MES y PRODUCCIÓN\n",
    "df_produccion_clean = df_produccion.iloc[:, [0, 1, 2]].copy()\n",
    "df_produccion_clean.columns = ['AÑO', 'MES', 'PRODUCCION']\n",
    "df_produccion_clean.dropna(inplace=True)"
   ]
  },
  {
   "cell_type": "code",
   "execution_count": null,
   "id": "21e09663",
   "metadata": {},
   "outputs": [],
   "source": [
    "print(\"Tabla de Regalías\")\n",
    "display(df_regalias_clean.head())\n",
    "print(\" \")\n",
    "print(\"Tabla de Precios\")\n",
    "display(df_precios_clean.head())\n",
    "print(\" \")\n",
    "print(\"Tabla de Producción\")\n",
    "display(df_produccion_clean.head())"
   ]
  },
  {
   "cell_type": "code",
   "execution_count": null,
   "id": "bd7a26ac",
   "metadata": {},
   "outputs": [],
   "source": [
    "# Conversión de columnas AÑO y MES a tipo entero para evitar problemas al unir los DataFrames\n",
    "# Aseguro que las columnas AÑO y MES sean enteras para que el merge funcione correctamente\n",
    "df_regalias_clean['AÑO'] = df_regalias_clean['AÑO'].astype(int)\n",
    "df_regalias_clean['MES'] = df_regalias_clean['MES'].astype(int)\n",
    "\n",
    "df_precios_clean['AÑO'] = df_precios_clean['AÑO'].astype(int)\n",
    "df_precios_clean['MES'] = df_precios_clean['MES'].astype(int)\n",
    "\n",
    "df_produccion_clean['AÑO'] = df_produccion_clean['AÑO'].astype(int)\n",
    "df_produccion_clean['MES'] = df_produccion_clean['MES'].astype(int)"
   ]
  },
  {
   "cell_type": "code",
   "execution_count": null,
   "id": "48692392",
   "metadata": {},
   "outputs": [],
   "source": [
    "# Uno regalías con precios\n",
    "df_final = df_regalias_clean.merge(df_precios_clean, on=['AÑO', 'MES'], how='inner')\n",
    "\n",
    "# Uno el resultado con producción\n",
    "df_final = df_final.merge(df_produccion_clean, on=['AÑO', 'MES'], how='inner')\n",
    "\n",
    "df_final.head()"
   ]
  },
  {
   "cell_type": "code",
   "execution_count": null,
   "id": "43f365e6",
   "metadata": {},
   "outputs": [],
   "source": [
    "print(\"Columnas:\", df_final.columns.tolist())\n",
    "print(\"Cantidad de filas:\", df_final.shape[0])\n",
    "print(\"\")\n",
    "print(\"Regalías:\", df_regalias_clean[['AÑO', 'MES']].drop_duplicates().shape[0])\n",
    "print(\"Precios:\", df_precios_clean[['AÑO', 'MES']].drop_duplicates().shape[0])\n",
    "print(\"Producción:\", df_produccion_clean[['AÑO', 'MES']].drop_duplicates().shape[0])"
   ]
  },
  {
   "cell_type": "code",
   "execution_count": null,
   "id": "8b313bcc",
   "metadata": {},
   "outputs": [],
   "source": [
    "# CARGA Y LIMPIEZA DE REGALÍAS, PRECIOS Y PRODUCCIÓN\n",
    "\n",
    "# Hoja de Regalías\n",
    "df_regalias = pd.read_excel(xls, sheet_name='Tabla regalías', skiprows=9)\n",
    "df_regalias['AÑO'] = df_regalias['AÑO'].ffill()\n",
    "df_regalias_clean = df_regalias.iloc[:, [0, 1, 2]].copy()\n",
    "df_regalias_clean.columns = ['AÑO', 'MES', 'REGALIAS']\n",
    "df_regalias_clean.dropna(inplace=True)\n",
    "\n",
    "# Hoja de Precios\n",
    "df_precios = pd.read_excel(xls, sheet_name='Tabla precios', skiprows=12)\n",
    "df_precios['AÑO'] = df_precios['AÑO'].ffill()\n",
    "df_precios_clean = df_precios.iloc[:, [0, 1, 2]].copy()\n",
    "df_precios_clean.columns = ['AÑO', 'MES', 'PRECIO']\n",
    "df_precios_clean.dropna(inplace=True)\n",
    "\n",
    "# Hoja de Producción\n",
    "df_produccion = pd.read_excel(xls, sheet_name='Tabla producción', skiprows=10)\n",
    "df_produccion['AÑO'] = df_produccion['AÑO'].ffill()\n",
    "df_produccion_clean = df_produccion.iloc[:, [0, 1, 2]].copy()\n",
    "df_produccion_clean.columns = ['AÑO', 'MES', 'PRODUCCION']\n",
    "df_produccion_clean.dropna(inplace=True)"
   ]
  },
  {
   "cell_type": "code",
   "execution_count": null,
   "id": "b8f0f530",
   "metadata": {},
   "outputs": [],
   "source": [
    "# Convierto AÑO y MES a enteros en los tres DataFrames\n",
    "df_regalias_clean['AÑO'] = df_regalias_clean['AÑO'].astype(int)\n",
    "df_regalias_clean['MES'] = df_regalias_clean['MES'].astype(int)\n",
    "\n",
    "df_precios_clean['AÑO'] = df_precios_clean['AÑO'].astype(int)\n",
    "df_precios_clean['MES'] = df_precios_clean['MES'].astype(int)\n",
    "\n",
    "df_produccion_clean['AÑO'] = df_produccion_clean['AÑO'].astype(int)\n",
    "df_produccion_clean['MES'] = df_produccion_clean['MES'].astype(int)"
   ]
  },
  {
   "cell_type": "code",
   "execution_count": null,
   "id": "b1f2c350",
   "metadata": {},
   "outputs": [],
   "source": [
    "# Unión de regalías con precios\n",
    "df_final = df_regalias_clean.merge(df_precios_clean, on=['AÑO', 'MES'], how='inner')\n",
    "\n",
    "# Unión con producción\n",
    "df_final = df_final.merge(df_produccion_clean, on=['AÑO', 'MES'], how='inner')\n",
    "\n",
    "# Vista preliminar\n",
    "df_final.head()"
   ]
  },
  {
   "cell_type": "code",
   "execution_count": null,
   "id": "0b171c6a",
   "metadata": {},
   "outputs": [],
   "source": [
    "print(\"Cantidad de filas:\", df_final.shape[0])\n",
    "print(\"Columnas:\", df_final.columns.tolist())"
   ]
  },
  {
   "cell_type": "markdown",
   "id": "f1604c8f",
   "metadata": {},
   "source": [
    "Tercera Parte: Análisis Exploratorio de Datos (EDA) y Entrenamiento del Modelo"
   ]
  },
  {
   "cell_type": "code",
   "execution_count": null,
   "id": "db09fd99",
   "metadata": {},
   "outputs": [],
   "source": [
    "# Gráfico: Producción vs Regalías\n",
    "plt.figure(figsize=(8, 5))\n",
    "plt.scatter(df_final['PRODUCCION'], df_final['REGALIAS'], alpha=0.6)\n",
    "plt.xlabel(\"Producción (m³)\")\n",
    "plt.ylabel(\"Regalías (ARS)\")\n",
    "plt.title(\"Relación entre Producción y Regalías\")\n",
    "plt.grid(True)\n",
    "plt.show()\n",
    "print(\"\")\n",
    "# Gráfico: Precio vs Regalías\n",
    "plt.figure(figsize=(8, 5))\n",
    "plt.scatter(df_final['PRECIO'], df_final['REGALIAS'], alpha=0.6, color='orange')\n",
    "plt.xlabel(\"Precio del petróleo (ARS)\")\n",
    "plt.ylabel(\"Regalías (ARS)\")\n",
    "plt.title(\"Relación entre Precio y Regalías\")\n",
    "plt.grid(True)\n",
    "plt.show()"
   ]
  },
  {
   "cell_type": "code",
   "execution_count": null,
   "id": "2bf1aceb",
   "metadata": {},
   "outputs": [],
   "source": [
    "# Defino las variables independientes (X) y la dependiente (y)\n",
    "X = df_final[['PRECIO', 'PRODUCCION']]\n",
    "y = df_final['REGALIAS']\n",
    "\n",
    "# Divido los datos en entrenamiento (80%) y prueba (20%)\n",
    "X_train, X_test, y_train, y_test = train_test_split(X, y, test_size=0.2, random_state=42)\n",
    "\n",
    "# Creo y entreno el modelo\n",
    "modelo = LinearRegression()\n",
    "modelo.fit(X_train, y_train)\n",
    "\n",
    "# Realizo predicciones sobre los datos de prueba\n",
    "y_pred = modelo.predict(X_test)\n",
    "\n",
    "# Evaluo el modelo\n",
    "r2 = r2_score(y_test, y_pred)\n",
    "rmse = np.sqrt(mean_squared_error(y_test, y_pred))\n",
    "\n",
    "print(\"R² Score:\", r2)\n",
    "print(\"RMSE:\", rmse)"
   ]
  },
  {
   "cell_type": "code",
   "execution_count": null,
   "id": "77757def",
   "metadata": {},
   "outputs": [],
   "source": [
    "plt.figure(figsize=(8, 5))\n",
    "plt.scatter(y_test, y_pred, alpha=0.6, color='green')\n",
    "plt.xlabel(\"Regalías reales (ARS)\")\n",
    "plt.ylabel(\"Regalías predichas (ARS)\")\n",
    "plt.title(\"Comparación entre Regalías Reales y Predichas\")\n",
    "plt.plot([y_test.min(), y_test.max()], [y_test.min(), y_test.max()], color='red', linestyle='--')\n",
    "plt.grid(True)\n",
    "plt.show()"
   ]
  },
  {
   "cell_type": "markdown",
   "id": "3107c300",
   "metadata": {},
   "source": [
    "Parte 4: Mejora del Modelo con Ridge"
   ]
  },
  {
   "cell_type": "code",
   "execution_count": null,
   "id": "d087ec58",
   "metadata": {},
   "outputs": [],
   "source": [
    "# Creo y entreno el modelo Ridge\n",
    "modelo_ridge = Ridge(alpha=1000000)\n",
    "modelo_ridge.fit(X_train, y_train)\n",
    "\n",
    "# Predicciones\n",
    "y_pred_ridge = modelo_ridge.predict(X_test)\n",
    "\n",
    "# Evaluación\n",
    "r2_ridge = r2_score(y_test, y_pred_ridge)\n",
    "rmse_ridge = np.sqrt(mean_squared_error(y_test, y_pred_ridge))\n",
    "\n",
    "print(\"Ridge - R² Score:\", r2_ridge)\n",
    "print(\"Ridge - RMSE:\", rmse_ridge)"
   ]
  },
  {
   "cell_type": "code",
   "execution_count": null,
   "id": "8f6981ed",
   "metadata": {},
   "outputs": [],
   "source": [
    "plt.figure(figsize=(8, 5))\n",
    "plt.scatter(y_test, y_pred_ridge, alpha=0.6, color='purple')\n",
    "plt.xlabel(\"Regalías reales (ARS)\")\n",
    "plt.ylabel(\"Regalías predichas (ARS)\")\n",
    "plt.title(\"Ridge: Reales vs Predichas\")\n",
    "plt.plot([y_test.min(), y_test.max()], [y_test.min(), y_test.max()], color='red', linestyle='--')\n",
    "plt.grid(True)\n",
    "plt.show()"
   ]
  }
 ],
 "metadata": {
  "language_info": {
   "name": "python"
  }
 },
 "nbformat": 4,
 "nbformat_minor": 5
}
